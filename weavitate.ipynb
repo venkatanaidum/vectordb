{
  "cells": [
    {
      "cell_type": "markdown",
      "metadata": {
        "id": "view-in-github",
        "colab_type": "text"
      },
      "source": [
        "<a href=\"https://colab.research.google.com/github/venkatanaidum/AILearning/blob/main/weavitate.ipynb\" target=\"_parent\"><img src=\"https://colab.research.google.com/assets/colab-badge.svg\" alt=\"Open In Colab\"/></a>"
      ]
    },
    {
      "cell_type": "code",
      "source": [
        "pip install weaviate-client"
      ],
      "metadata": {
        "id": "tjd84Lfr3HzD"
      },
      "execution_count": null,
      "outputs": []
    },
    {
      "cell_type": "markdown",
      "source": [
        "quickstart_check_readiness.py"
      ],
      "metadata": {
        "id": "QlWMA1pH49eb"
      }
    },
    {
      "cell_type": "code",
      "source": [
        "import weaviate\n",
        "from weaviate.classes.init import Auth\n",
        "from google.colab import userdata\n",
        "import os\n",
        "\n",
        "# Best practice: store your credentials in environment variables\n",
        "weaviate_url = userdata.get('weaviate_url')\n",
        "weaviate_api_key = userdata.get('weaviate_api_key')\n",
        "\n",
        "client = weaviate.connect_to_weaviate_cloud(\n",
        "    cluster_url=weaviate_url,\n",
        "    auth_credentials=Auth.api_key(weaviate_api_key),\n",
        ")\n",
        "\n",
        "print(client.is_ready())  # Should print: `True`\n",
        "\n",
        "client.close()  # Free up resources"
      ],
      "metadata": {
        "colab": {
          "base_uri": "https://localhost:8080/"
        },
        "id": "wdWnSzfp2vT6",
        "outputId": "1ce9283e-3db0-442c-a3d9-f54b9cbed031"
      },
      "execution_count": 3,
      "outputs": [
        {
          "output_type": "stream",
          "name": "stdout",
          "text": [
            "True\n"
          ]
        }
      ]
    },
    {
      "cell_type": "markdown",
      "source": [
        "quickstart_create_collection.py"
      ],
      "metadata": {
        "id": "DbHrt3rD5BUR"
      }
    },
    {
      "cell_type": "code",
      "source": [
        "import weaviate\n",
        "from weaviate.classes.init import Auth\n",
        "from weaviate.classes.config import Configure\n",
        "import os\n",
        "\n",
        "# Best practice: store your credentials in environment variables\n",
        "weaviate_url = userdata.get('weaviate_url')\n",
        "weaviate_api_key = userdata.get('weaviate_api_key')\n",
        "\n",
        "client = weaviate.connect_to_weaviate_cloud(\n",
        "    cluster_url=weaviate_url,                                    # Replace with your Weaviate Cloud URL\n",
        "    auth_credentials=Auth.api_key(weaviate_api_key),             # Replace with your Weaviate Cloud key\n",
        ")\n",
        "\n",
        "questions = client.collections.create(\n",
        "    name=\"Question\",\n",
        "    vectorizer_config=Configure.Vectorizer.text2vec_weaviate(), # Configure the Weaviate Embeddings integration\n",
        "    generative_config=Configure.Generative.cohere()             # Configure the Cohere generative AI integration\n",
        ")\n",
        "\n",
        "client.close()  # Free up resources"
      ],
      "metadata": {
        "id": "9bq20qnD47cX"
      },
      "execution_count": 5,
      "outputs": []
    },
    {
      "cell_type": "markdown",
      "source": [
        "quickstart_import.py"
      ],
      "metadata": {
        "id": "llUKTSI55Pdh"
      }
    },
    {
      "cell_type": "code",
      "source": [
        "import weaviate\n",
        "from weaviate.classes.init import Auth\n",
        "import requests, json, os\n",
        "\n",
        "# Best practice: store your credentials in environment variables\n",
        "weaviate_url = userdata.get('weaviate_url')\n",
        "weaviate_api_key = userdata.get('weaviate_api_key')\n",
        "\n",
        "client = weaviate.connect_to_weaviate_cloud(\n",
        "    cluster_url=weaviate_url,                                    # Replace with your Weaviate Cloud URL\n",
        "    auth_credentials=Auth.api_key(weaviate_api_key),             # Replace with your Weaviate Cloud key\n",
        ")\n",
        "\n",
        "resp = requests.get(\n",
        "    \"https://raw.githubusercontent.com/weaviate-tutorials/quickstart/main/data/jeopardy_tiny.json\"\n",
        ")\n",
        "data = json.loads(resp.text)\n",
        "\n",
        "questions = client.collections.get(\"Question\")\n",
        "\n",
        "with questions.batch.dynamic() as batch:\n",
        "    for d in data:\n",
        "        batch.add_object({\n",
        "            \"answer\": d[\"Answer\"],\n",
        "            \"question\": d[\"Question\"],\n",
        "            \"category\": d[\"Category\"],\n",
        "        })\n",
        "        if batch.number_errors > 10:\n",
        "            print(\"Batch import stopped due to excessive errors.\")\n",
        "            break\n",
        "\n",
        "failed_objects = questions.batch.failed_objects\n",
        "if failed_objects:\n",
        "    print(f\"Number of failed imports: {len(failed_objects)}\")\n",
        "    print(f\"First failed object: {failed_objects[0]}\")\n",
        "\n",
        "client.close()  # Free up resources"
      ],
      "metadata": {
        "id": "tO877dh15PR0"
      },
      "execution_count": 7,
      "outputs": []
    },
    {
      "cell_type": "markdown",
      "source": [
        "Semantic search\n",
        "quickstart_neartext_query.py"
      ],
      "metadata": {
        "id": "roa04tog6RHd"
      }
    },
    {
      "cell_type": "code",
      "source": [
        "import weaviate\n",
        "from weaviate.classes.init import Auth\n",
        "import os, json\n",
        "\n",
        "# Best practice: store your credentials in environment variables\n",
        "weaviate_url = userdata.get('weaviate_url')\n",
        "weaviate_api_key = userdata.get('weaviate_api_key')\n",
        "\n",
        "client = weaviate.connect_to_weaviate_cloud(\n",
        "    cluster_url=weaviate_url,                                    # Replace with your Weaviate Cloud URL\n",
        "    auth_credentials=Auth.api_key(weaviate_api_key),             # Replace with your Weaviate Cloud key\n",
        ")\n",
        "\n",
        "questions = client.collections.get(\"Question\")\n",
        "\n",
        "response = questions.query.near_text(\n",
        "    query=\"biology\",\n",
        "    limit=2\n",
        ")\n",
        "\n",
        "for obj in response.objects:\n",
        "    print(json.dumps(obj.properties, indent=2))\n",
        "\n",
        "client.close()  # Free up resources"
      ],
      "metadata": {
        "id": "Tcwx3acm6ZtL",
        "outputId": "3fb4474f-79d4-4f0e-b28c-ea75240dfdf0",
        "colab": {
          "base_uri": "https://localhost:8080/"
        }
      },
      "execution_count": 8,
      "outputs": [
        {
          "output_type": "stream",
          "name": "stdout",
          "text": [
            "{\n",
            "  \"answer\": \"Elephant\",\n",
            "  \"question\": \"It's the only living mammal in the order Proboseidea\",\n",
            "  \"category\": \"ANIMALS\"\n",
            "}\n",
            "{\n",
            "  \"answer\": \"Liver\",\n",
            "  \"question\": \"This organ removes excess glucose from the blood & stores it as glycogen\",\n",
            "  \"category\": \"SCIENCE\"\n",
            "}\n"
          ]
        }
      ]
    },
    {
      "cell_type": "markdown",
      "source": [
        "Retrieval augmented generation\n",
        "quickstart_rag.py"
      ],
      "metadata": {
        "id": "U_xlibzj7uyO"
      }
    },
    {
      "cell_type": "code",
      "source": [
        "import weaviate\n",
        "from weaviate.classes.init import Auth\n",
        "import os\n",
        "\n",
        "# Best practice: store your credentials in environment variables\n",
        "weaviate_url = userdata.get('weaviate_url')\n",
        "weaviate_api_key = userdata.get('weaviate_api_key')\n",
        "cohere_api_key = userdata.get(\"cohere_api_key\")\n",
        "\n",
        "client = weaviate.connect_to_weaviate_cloud(\n",
        "    cluster_url=weaviate_url,                                    # Replace with your Weaviate Cloud URL\n",
        "    auth_credentials=Auth.api_key(weaviate_api_key),             # Replace with your Weaviate Cloud key\n",
        "    headers={\"X-Cohere-Api-Key\": cohere_api_key},           # Replace with your Cohere API key\n",
        ")\n",
        "\n",
        "questions = client.collections.get(\"Question\")\n",
        "\n",
        "response = questions.generate.near_text(\n",
        "    query=\"biology\",\n",
        "    limit=2,\n",
        "    grouped_task=\"Write a tweet with emojis about these facts.\"\n",
        ")\n",
        "\n",
        "print(response.generated)  # Inspect the generated text\n",
        "\n",
        "client.close()  # Free up resources"
      ],
      "metadata": {
        "id": "7a4A_mYs7x37",
        "outputId": "d55d3f1b-9c01-4301-90cc-bacf7448d8c3",
        "colab": {
          "base_uri": "https://localhost:8080/"
        }
      },
      "execution_count": 12,
      "outputs": [
        {
          "output_type": "stream",
          "name": "stdout",
          "text": [
            "🐘 is the only mammal in the order Proboseidea and 🤓 liver has got your back by removing excess glucose! #funfactswithemoji\n"
          ]
        }
      ]
    }
  ],
  "metadata": {
    "colab": {
      "name": "Welcome To Colab",
      "provenance": [],
      "include_colab_link": true
    },
    "kernelspec": {
      "display_name": "Python 3",
      "name": "python3"
    }
  },
  "nbformat": 4,
  "nbformat_minor": 0
}
