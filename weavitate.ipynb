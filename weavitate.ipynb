{
  "cells": [
    {
      "cell_type": "markdown",
      "metadata": {
        "id": "view-in-github",
        "colab_type": "text"
      },
      "source": [
        "<a href=\"https://colab.research.google.com/github/venkatanaidum/vectordb/blob/main/weavitate.ipynb\" target=\"_parent\"><img src=\"https://colab.research.google.com/assets/colab-badge.svg\" alt=\"Open In Colab\"/></a>"
      ]
    },
    {
      "cell_type": "code",
      "source": [
        "pip install weaviate-client"
      ],
      "metadata": {
        "id": "tjd84Lfr3HzD"
      },
      "execution_count": null,
      "outputs": []
    },
    {
      "cell_type": "code",
      "source": [
        "import weaviate\n",
        "from weaviate.classes.init import Auth\n",
        "from google.colab import userdata\n",
        "import os\n",
        "\n",
        "# Best practice: store your credentials in environment variables\n",
        "weaviate_url = userdata.get('weaviate_url')\n",
        "weaviate_api_key = userdata.get('weaviate_api_key')\n",
        "\n",
        "client = weaviate.connect_to_weaviate_cloud(\n",
        "    cluster_url=weaviate_url,\n",
        "    auth_credentials=Auth.api_key(weaviate_api_key),\n",
        ")\n",
        "\n",
        "print(client.is_ready())  # Should print: `True`\n",
        "\n",
        "client.close()  # Free up resources"
      ],
      "metadata": {
        "id": "wdWnSzfp2vT6",
        "outputId": "1ce9283e-3db0-442c-a3d9-f54b9cbed031",
        "colab": {
          "base_uri": "https://localhost:8080/"
        }
      },
      "execution_count": 3,
      "outputs": [
        {
          "output_type": "stream",
          "name": "stdout",
          "text": [
            "True\n"
          ]
        }
      ]
    }
  ],
  "metadata": {
    "colab": {
      "name": "Welcome To Colab",
      "provenance": [],
      "include_colab_link": true
    },
    "kernelspec": {
      "display_name": "Python 3",
      "name": "python3"
    }
  },
  "nbformat": 4,
  "nbformat_minor": 0
}